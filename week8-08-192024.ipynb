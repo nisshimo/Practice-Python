{
 "cells": [
  {
   "cell_type": "markdown",
   "metadata": {},
   "source": [
    "# 第8回課題"
   ]
  },
  {
   "cell_type": "markdown",
   "metadata": {},
   "source": [
    "## 課題1\n",
    "\n",
    "doctest書くのは楽しかった。これからどんどん使っていきたい。"
   ]
  },
  {
   "cell_type": "code",
   "execution_count": 23,
   "metadata": {},
   "outputs": [],
   "source": [
    "class BankAccount:\n",
    "    \"\"\"make a bankaccount that has its balance and key number\n",
    "    \"\"\"\n",
    "    \n",
    "    def __init__(self, initial_balance,key_number):\n",
    "        \"\"\"initialize baalnce and key number\n",
    "        \n",
    "         >>> acc = BankAccount(10000, \"secret\")\n",
    "        \"\"\"\n",
    "        self.__balance = initial_balance \n",
    "        self.__key_number = key_number\n",
    "\n",
    "    def withdraw(self, amount,input_number):\n",
    "        \"\"\"withdraw the amount from the balance and return current balance\n",
    "\n",
    "        >>> acc = BankAccount(10000, \"secret\")\n",
    "        >>> acc.withdraw(3000, \"secret\")\n",
    "        7000\n",
    "        >>> acc.withdraw(4000, \"wrong password\")\n",
    "        'Incorrect password'\n",
    "        >>> acc.withdraw(8000, \"secret\")\n",
    "        'Insufficient funds'\n",
    "\n",
    "        \"\"\"\n",
    "        if input_number != self.__key_number:\n",
    "            return  \"Incorrect password\"\n",
    "        if self.__balance >= amount:\n",
    "            self.__balance -= amount\n",
    "            return self.__balance\n",
    "        else:\n",
    "            return \"Insufficient funds\"\n",
    "\n",
    "    def deposit(self, amount,input_number):\n",
    "        \"\"\"deposit amount to the balance and return current balance if inputed number is correct\n",
    "\n",
    "        >>> acc = BankAccount(10000, \"secret\")\n",
    "        >>> acc.deposit(5000, \"secret\")\n",
    "        15000\n",
    "        >>> acc.withdraw(4000, \"wrong password\")\n",
    "        'Incorrect password'\n",
    "  \n",
    "        \"\"\"\n",
    "\n",
    "        if input_number != self.__key_number:\n",
    "            return  \"Incorrect password\"\n",
    "        self.__balance += amount\n",
    "        return self.__balance"
   ]
  },
  {
   "cell_type": "markdown",
   "metadata": {},
   "source": [
    "## 課題2\n",
    "\n",
    "returnによる返り値だけでなく、printで出力されるものも考慮してdoctestを書かなければならないことを学んだ。"
   ]
  },
  {
   "cell_type": "code",
   "execution_count": 37,
   "metadata": {},
   "outputs": [],
   "source": [
    "import abc\n",
    "\n",
    "class Observer:\n",
    "    \"\"\"abstract observer class\"\"\" \n",
    "    @abc.abstractmethod\n",
    "    def update(self):\n",
    "        \"\"\"update status (ex. display)\"\"\"\n",
    "    \n",
    "class Subject:\n",
    "    \"\"\"abstract subject class\"\"\"\n",
    "    def __init__(self):\n",
    "        self.observers = []\n",
    "    def attach(self, an_observer):\n",
    "        \"\"\"add observer to the list\"\"\" \n",
    "        self.observers.append(an_observer) \n",
    "    def detach(self, an_observer):\n",
    "        \"\"\"remove observer from the list\"\"\" \n",
    "        self.observers.remove(an_observer) \n",
    "    def notify(self):\n",
    "        \"\"\"call update() for all observers\"\"\" \n",
    "        for o in self.observers:\n",
    "            o.update()\n",
    "\n",
    "class ColockTimer(Subject):\n",
    "    \"\"\"a class manages time (self.hour, self.minute, and self.second)\"\"\"\n",
    "    def __init__(self, h, m, s):\n",
    "        super().__init__() # 追加\n",
    "        self.hour = h\n",
    "        self.minute = m\n",
    "        self.second = s\n",
    "    def tick(self):\n",
    "        \"\"\"this funciton ticks a clock for 1 second.\n",
    "        \n",
    "        >>> timer = ClockTimer(22, 54, 14)\n",
    "        >>> timer.tick()\n",
    "        15\n",
    "        \"\"\"\n",
    "        self.second +=1\n",
    "        if self.second == 60:\n",
    "            self.second = 0\n",
    "            self.minute +=1\n",
    "            if self.minute == 60:\n",
    "                self.minute = 0\n",
    "                self.hour +=1\n",
    "                if self.hour == 24:\n",
    "                    self.hour = 0\n",
    "        self.notify()\n",
    "        return self.second\n",
    "\n",
    "class ConsoleClock(Observer):\n",
    "    \"\"\"display time in console\n",
    "    \n",
    "    >>> timer = ClockTimer(10, 47, 10)\n",
    "    >>> cc1 = ConsoleClock(timer)\n",
    "    >>> timer.tick()\n",
    "    10:47:11\n",
    "    11\n",
    "    >>> cc2 = ConsoleClock(timer)\n",
    "    >>> timer.tick()\n",
    "    10:47:12\n",
    "    10:47:12\n",
    "    12\n",
    "    >>> cc3 = ConsoleClock(timer)\n",
    "    >>> timer.tick()\n",
    "    10:47:13\n",
    "    10:47:13\n",
    "    10:47:13\n",
    "    13\n",
    "    >>> timer.detach(cc1)\n",
    "    >>> timer.tick()\n",
    "    10:47:14\n",
    "    10:47:14\n",
    "    14\n",
    "    \"\"\"\n",
    "    def __init__(self, subject):\n",
    "        \"\"\"create ConsoleCloclk and attach to subject\"\"\"\n",
    "        super().__init__()\n",
    "        self.subject = subject\n",
    "        self.subject.attach(self)\n",
    "    \n",
    "    def clock_to_string(self, clock):\n",
    "        return \"{:02d}:{:02d}:{:02d}\".format(clock.hour, clock.minute, clock.second)\n",
    "    \n",
    "    def update(self):\n",
    "        print(self.clock_to_string(self.subject))"
   ]
  },
  {
   "cell_type": "markdown",
   "metadata": {},
   "source": [
    "## 課題3\n",
    "\n",
    "self.subject.attach(self) の一文を忘れたせいで動作が意図したとおりになていなくて、気がつくのに少し時間がかかった"
   ]
  },
  {
   "cell_type": "code",
   "execution_count": 149,
   "metadata": {
    "scrolled": false
   },
   "outputs": [],
   "source": [
    "class CountdownClock(Observer):\n",
    "    \"\"\"class of countdown clock\n",
    "    \n",
    "        >>> timer = ClockTimer(10, 47, 10)\n",
    "        >>> cd = CountdownClock(timer, 3)\n",
    "        >>> timer.tick()\n",
    "        2\n",
    "        11\n",
    "        >>> timer.tick()\n",
    "        1\n",
    "        12\n",
    "        >>> timer.tick()\n",
    "        !!!\n",
    "        13\n",
    "    \"\"\" \n",
    "    def __init__(self, subject, rest_time):\n",
    "        \"\"\"initialize state\"\"\"\n",
    "        super().__init__()\n",
    "        self.subject = subject\n",
    "        self.subject.attach(self)\n",
    "        self.rest_time = rest_time\n",
    "    \n",
    "    def update(self):\n",
    "        self.rest_time -= 1\n",
    "        if self.rest_time == 0:\n",
    "            print(\"!!!\")\n",
    "        else:\n",
    "            print(self.rest_time)"
   ]
  },
  {
   "cell_type": "code",
   "execution_count": 150,
   "metadata": {
    "scrolled": true
   },
   "outputs": [
    {
     "data": {
      "text/plain": [
       "TestResults(failed=0, attempted=28)"
      ]
     },
     "execution_count": 150,
     "metadata": {},
     "output_type": "execute_result"
    }
   ],
   "source": [
    "import doctest\n",
    "doctest.testmod(verbose=False)"
   ]
  },
  {
   "cell_type": "code",
   "execution_count": null,
   "metadata": {},
   "outputs": [],
   "source": []
  }
 ],
 "metadata": {
  "kernelspec": {
   "display_name": "Python 3",
   "language": "python",
   "name": "python3"
  },
  "language_info": {
   "codemirror_mode": {
    "name": "ipython",
    "version": 3
   },
   "file_extension": ".py",
   "mimetype": "text/x-python",
   "name": "python",
   "nbconvert_exporter": "python",
   "pygments_lexer": "ipython3",
   "version": "3.6.6"
  }
 },
 "nbformat": 4,
 "nbformat_minor": 2
}
